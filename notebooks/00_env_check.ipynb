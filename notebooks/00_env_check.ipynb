{
 "cells": [
  {
   "cell_type": "markdown",
   "id": "efd5ed3c",
   "metadata": {},
   "source": [
    "# Environment Check\n",
    "\n",
    "This notebook verifies that all required libraries are properly installed and accessible in the development environment.\n",
    "\n",
    "## Required Libraries:\n",
    "- **pandas**: Data manipulation and analysis\n",
    "- **ccxt**: Cryptocurrency exchange integration\n",
    "- **torch**: Deep learning framework\n",
    "- **sklearn**: Machine learning toolkit\n",
    "- **optuna**: Hyperparameter optimization"
   ]
  },
  {
   "cell_type": "markdown",
   "id": "12609234",
   "metadata": {},
   "source": [
    "## Import Required Libraries\n",
    "\n",
    "Attempting to import all required libraries with proper error handling."
   ]
  },
  {
   "cell_type": "code",
   "execution_count": 1,
   "id": "d016fa4f",
   "metadata": {},
   "outputs": [
    {
     "name": "stdout",
     "output_type": "stream",
     "text": [
      "✅ pandas: Successfully imported\n",
      "✅ ccxt: Successfully imported\n",
      "✅ torch: Successfully imported\n",
      "✅ sklearn: Successfully imported\n",
      "✅ optuna: Successfully imported\n",
      "\n",
      "Summary: 5/5 libraries imported successfully\n"
     ]
    },
    {
     "name": "stderr",
     "output_type": "stream",
     "text": [
      "/home/shubham/CryptoAI/.venv/lib/python3.12/site-packages/tqdm/auto.py:21: TqdmWarning: IProgress not found. Please update jupyter and ipywidgets. See https://ipywidgets.readthedocs.io/en/stable/user_install.html\n",
      "  from .autonotebook import tqdm as notebook_tqdm\n"
     ]
    }
   ],
   "source": [
    "# Import Required Libraries with Error Handling\n",
    "libraries = {}\n",
    "failed_imports = []\n",
    "\n",
    "# List of required libraries\n",
    "required_libs = ['pandas', 'ccxt', 'torch', 'sklearn', 'optuna']\n",
    "\n",
    "for lib_name in required_libs:\n",
    "    try:\n",
    "        # Import the library\n",
    "        lib = __import__(lib_name)\n",
    "        libraries[lib_name] = lib\n",
    "        print(f\"✅ {lib_name}: Successfully imported\")\n",
    "    except ImportError as e:\n",
    "        failed_imports.append(lib_name)\n",
    "        print(f\"❌ {lib_name}: Failed to import - {e}\")\n",
    "\n",
    "print(f\"\\nSummary: {len(libraries)}/{len(required_libs)} libraries imported successfully\")"
   ]
  },
  {
   "cell_type": "markdown",
   "id": "87b38400",
   "metadata": {},
   "source": [
    "## Check Library Versions\n",
    "\n",
    "Display version information for all successfully imported libraries."
   ]
  },
  {
   "cell_type": "code",
   "execution_count": 2,
   "id": "926ad694",
   "metadata": {},
   "outputs": [
    {
     "name": "stdout",
     "output_type": "stream",
     "text": [
      "📋 Library Versions:\n",
      "========================================\n",
      "pandas       : 2.3.0\n",
      "ccxt         : 4.4.92\n",
      "torch        : 2.7.1+cu126\n",
      "sklearn      : 1.7.0\n",
      "optuna       : 4.4.0\n",
      "\n",
      "🔄 Alternative Version Check:\n",
      "========================================\n",
      "pandas       : 2.3.0\n",
      "ccxt         : 4.4.92\n",
      "torch        : 2.7.1+cu126\n",
      "sklearn      : 1.7.0\n",
      "optuna       : 4.4.0\n"
     ]
    }
   ],
   "source": [
    "# Check and Display Library Versions\n",
    "print(\"📋 Library Versions:\")\n",
    "print(\"=\" * 40)\n",
    "\n",
    "for lib_name, lib in libraries.items():\n",
    "    try:\n",
    "        version = getattr(lib, '__version__', 'Version not available')\n",
    "        print(f\"{lib_name:12} : {version}\")\n",
    "    except Exception as e:\n",
    "        print(f\"{lib_name:12} : Error getting version - {e}\")\n",
    "\n",
    "# Additional version check using the original approach\n",
    "print(\"\\n🔄 Alternative Version Check:\")\n",
    "print(\"=\" * 40)\n",
    "\n",
    "try:\n",
    "    import pandas, ccxt, torch, sklearn, optuna\n",
    "    for lib in [pandas, ccxt, torch, sklearn, optuna]:\n",
    "        print(f\"{lib.__name__:12} : {lib.__version__}\")\n",
    "except Exception as e:\n",
    "    print(f\"Error in alternative check: {e}\")"
   ]
  },
  {
   "cell_type": "markdown",
   "id": "c8dd1a8c",
   "metadata": {},
   "source": [
    "## Handle Import Errors\n",
    "\n",
    "If any libraries failed to import, install them using Poetry."
   ]
  },
  {
   "cell_type": "code",
   "execution_count": 3,
   "id": "11237082",
   "metadata": {},
   "outputs": [
    {
     "name": "stdout",
     "output_type": "stream",
     "text": [
      "🎉 All required libraries are installed and working!\n",
      "Your environment is ready for crypto AI development.\n",
      "\n",
      "📊 Environment Status:\n",
      "   • Total libraries: 5\n",
      "   • Successfully imported: 5\n",
      "   • Failed imports: 0\n",
      "   • Success rate: 100.0%\n"
     ]
    }
   ],
   "source": [
    "# Handle Failed Imports\n",
    "if failed_imports:\n",
    "    print(\"⚠️  Missing Libraries:\")\n",
    "    print(\"=\" * 40)\n",
    "    for lib in failed_imports:\n",
    "        print(f\"❌ {lib}\")\n",
    "    \n",
    "    print(\"\\n📦 To install missing libraries, run:\")\n",
    "    print(\"poetry add \" + \" \".join(failed_imports))\n",
    "    \n",
    "else:\n",
    "    print(\"🎉 All required libraries are installed and working!\")\n",
    "    print(\"Your environment is ready for crypto AI development.\")\n",
    "\n",
    "print(f\"\\n📊 Environment Status:\")\n",
    "print(f\"   • Total libraries: {len(required_libs)}\")\n",
    "print(f\"   • Successfully imported: {len(libraries)}\")\n",
    "print(f\"   • Failed imports: {len(failed_imports)}\")\n",
    "print(f\"   • Success rate: {len(libraries)/len(required_libs)*100:.1f}%\")"
   ]
  }
 ],
 "metadata": {
  "kernelspec": {
   "display_name": ".venv",
   "language": "python",
   "name": "python3"
  },
  "language_info": {
   "codemirror_mode": {
    "name": "ipython",
    "version": 3
   },
   "file_extension": ".py",
   "mimetype": "text/x-python",
   "name": "python",
   "nbconvert_exporter": "python",
   "pygments_lexer": "ipython3",
   "version": "3.12.3"
  }
 },
 "nbformat": 4,
 "nbformat_minor": 5
}
